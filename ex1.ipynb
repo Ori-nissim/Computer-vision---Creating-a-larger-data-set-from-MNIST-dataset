{
  "nbformat": 4,
  "nbformat_minor": 0,
  "metadata": {
    "colab": {
      "name": "ex1.ipynb",
      "provenance": [],
      "collapsed_sections": []
    },
    "kernelspec": {
      "name": "python3",
      "display_name": "Python 3"
    },
    "language_info": {
      "name": "python"
    }
  },
  "cells": [
    {
      "cell_type": "code",
      "execution_count": 1,
      "metadata": {
        "id": "Go9mVLC41VhO"
      },
      "outputs": [],
      "source": [
        "# Students ID"
      ]
    },
    {
      "cell_type": "markdown",
      "source": [
        "#  Dataset Preprocessing\n",
        "\n",
        "---\n",
        "\n",
        "\n",
        "*   A good dataset is a key for successful model training.\n",
        "\n",
        "*   This assignment guides you how to create two labeled datasets, which could later be used for\n",
        "supervised learning.\n",
        "\n",
        "---\n",
        "\n",
        "## Overview\n",
        "\n",
        "Image augmentations are used to increase the variability and robustness of a dataset\n",
        "\n",
        "## Goals - Create a larger dataset from a smaller one\n",
        "\n",
        "\n",
        "\n",
        "---\n",
        "\n",
        "\n",
        "### Goals\n",
        "1. \n",
        "\n",
        "  *   The original MNIST dataset includes images of single digits, in ten classes.\n",
        "  *   Your goal is to create a new three-digit image dataset, with 101 classes, based on the original MNIST dataset.\n",
        "2. \n",
        "\n",
        "  *   Create a dataset of shape images with three classes: (Triangle, Rectangle and Circle/Elipse)\n",
        "\n",
        "\n",
        "---\n",
        "\n",
        "### Tasks\n",
        "\n",
        "1 - MNIST</br>\n",
        "*  Download the mnist data usin the code snippet below </br> \n",
        "<code> import torchvision </br>\n",
        "mnist_data = torchvision.datasets.MNIST(root='', download=True) </br>\n",
        "this downloads the data to root ('') folder. Change the root to a convenient location. </code>\n",
        "*  Show at least 5 samples of each class (0-9). Always add proper titles and choose the correct color\n",
        "map\n",
        "* Your new dataset should include the three-digits numbers: [000, 001, ..., 055, ..., 099, 100],\n",
        "forming 101 classes. </br>\n",
        "* Each class should have at least 4000 different samples. </br>\n",
        "* Use the augmentations you created on lab 3 on your new dataset and show some results and\n",
        "explain which augmentations are applicable to this specific dataset, which are not and why. </br>\n",
        "* Each student should add about 10 new augmentations (you may use OpenCV). The total number\n",
        "of augmentations will be 15. </br>\n",
        "* Display typical results of your dataset, demonstrating the variability of the new dataset. </br>\n",
        "* Write a detailed summary of your work.\n",
        "\n",
        "2 - Shapes Dataset\n",
        "* Shapes definition and functions requirements:\n",
        "  * Minimal and maximal area: 100-600 pixels, the shape could not be cropped by image\n",
        "boundaries.\n",
        "  * Each shape will have random size, location, orientation and color.\n",
        "  * Each image will include one of the following shapes:\n",
        "    * Triangle\n",
        "    * Rectangle\n",
        "    * Circle/Elipse\n",
        "  * Each image should be of dimensions 50x50x3.\n",
        "  * Create at least 300 different samples of each class i.e.(circles with different radius, etc..)\n",
        "  * Show the images you created without augmentations and with the augmentations from lab 3\n",
        "  * Write a class, which loads the data you created, labels the data, i.e (triangle will be class 0,\n",
        "rectangle 1, etc.. an Integer) and splits it to train and test sets. 90% of the data should be train\n",
        "images and 10% test images. The class call should be as follows: \n",
        "\n",
        "\n",
        "3 - Summary\n",
        "  * Write a short summary of everything you've done in this work\n"
      ],
      "metadata": {
        "id": "t9bDi0Ju1l3z"
      }
    },
    {
      "cell_type": "code",
      "source": [
        "# imports \n",
        "# Add the missing imports.\n",
        "import torchvision\n",
        "import numpy as np\n",
        "import matplotlib.pyplot as plt"
      ],
      "metadata": {
        "id": "LEPF7eVn2w_g"
      },
      "execution_count": 14,
      "outputs": []
    },
    {
      "cell_type": "code",
      "source": [
        "mnist_data = torchvision.datasets.MNIST(root='', download=True, train=True);"
      ],
      "metadata": {
        "id": "YiFRhtvr6C_0"
      },
      "execution_count": 30,
      "outputs": []
    },
    {
      "cell_type": "code",
      "source": [
        "# Acessing the data within\n",
        "images = mnist_data.data.numpy()\n",
        "labels = mnist_data.targets.numpy()\n",
        "print(images.shape) #60K Images with Dimension 28X28\n",
        "print(f\"There are {len(mnist_data.classes)} which are {mnist_data.classes}\")"
      ],
      "metadata": {
        "colab": {
          "base_uri": "https://localhost:8080/"
        },
        "id": "kWIG_HBC6JGU",
        "outputId": "436d15c3-fbf2-40b7-b44f-9e8642f18d24"
      },
      "execution_count": 13,
      "outputs": [
        {
          "output_type": "stream",
          "name": "stdout",
          "text": [
            "(60000, 28, 28)\n",
            "There are 10 which are ['0 - zero', '1 - one', '2 - two', '3 - three', '4 - four', '5 - five', '6 - six', '7 - seven', '8 - eight', '9 - nine']\n"
          ]
        }
      ]
    },
    {
      "cell_type": "code",
      "source": [
        "# Plot a random num\n",
        "plt.rcParams[\"figure.figsize\"] = (8, 4)\n",
        "rand_indx = np.random.randint(len(images))\n",
        "plt.imshow(images[rand_indx], cmap=\"gray\")\n",
        "plt.title(f\"Label = {labels[rand_indx]}\")"
      ],
      "metadata": {
        "colab": {
          "base_uri": "https://localhost:8080/",
          "height": 298
        },
        "id": "pJnxZlq574DR",
        "outputId": "a5109f8f-52b7-48d9-da10-2ec8722faac1"
      },
      "execution_count": 29,
      "outputs": [
        {
          "output_type": "execute_result",
          "data": {
            "text/plain": [
              "Text(0.5, 1.0, 'Label = 7')"
            ]
          },
          "metadata": {},
          "execution_count": 29
        },
        {
          "output_type": "display_data",
          "data": {
            "image/png": "[encoded data removed]",
            "text/plain": [
              "<Figure size 576x288 with 1 Axes>"
            ]
          },
          "metadata": {
            "needs_background": "light"
          }
        }
      ]
    },
    {
      "cell_type": "code",
      "source": [
        ""
      ],
      "metadata": {
        "id": "ymT9Xo41769Y"
      },
      "execution_count": null,
      "outputs": []
    }
  ]
}